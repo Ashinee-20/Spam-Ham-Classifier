{
  "cells": [
    {
      "cell_type": "code",
      "execution_count": null,
      "metadata": {
        "id": "MzO0IeEpIvd-"
      },
      "outputs": [],
      "source": [
        "import numpy as np\n",
        "import pandas as pd\n",
        "import matplotlib.pyplot as plt\n",
        "import seaborn as sns"
      ]
    },
    {
      "cell_type": "markdown",
      "source": [
        "reading out the data with read_csv() function and printing out the first 5 values of the .csv file"
      ],
      "metadata": {
        "id": "HtrmPL1SY6LP"
      }
    },
    {
      "cell_type": "code",
      "execution_count": null,
      "metadata": {
        "colab": {
          "base_uri": "https://localhost:8080/",
          "height": 206
        },
        "id": "W1f_WVkuI5TC",
        "outputId": "9313808a-b079-409c-a1f5-27284a971508"
      },
      "outputs": [
        {
          "output_type": "execute_result",
          "data": {
            "text/plain": [
              "   Unnamed: 0 label                                               text  \\\n",
              "0         605   ham  Subject: enron methanol ; meter # : 988291\\r\\n...   \n",
              "1        2349   ham  Subject: hpl nom for january 9 , 2001\\r\\n( see...   \n",
              "2        3624   ham  Subject: neon retreat\\r\\nho ho ho , we ' re ar...   \n",
              "3        4685  spam  Subject: photoshop , windows , office . cheap ...   \n",
              "4        2030   ham  Subject: re : indian springs\\r\\nthis deal is t...   \n",
              "\n",
              "   label_num  \n",
              "0          0  \n",
              "1          0  \n",
              "2          0  \n",
              "3          1  \n",
              "4          0  "
            ],
            "text/html": [
              "\n",
              "  <div id=\"df-ea67d868-9496-4890-8c8a-f38238345a23\">\n",
              "    <div class=\"colab-df-container\">\n",
              "      <div>\n",
              "<style scoped>\n",
              "    .dataframe tbody tr th:only-of-type {\n",
              "        vertical-align: middle;\n",
              "    }\n",
              "\n",
              "    .dataframe tbody tr th {\n",
              "        vertical-align: top;\n",
              "    }\n",
              "\n",
              "    .dataframe thead th {\n",
              "        text-align: right;\n",
              "    }\n",
              "</style>\n",
              "<table border=\"1\" class=\"dataframe\">\n",
              "  <thead>\n",
              "    <tr style=\"text-align: right;\">\n",
              "      <th></th>\n",
              "      <th>Unnamed: 0</th>\n",
              "      <th>label</th>\n",
              "      <th>text</th>\n",
              "      <th>label_num</th>\n",
              "    </tr>\n",
              "  </thead>\n",
              "  <tbody>\n",
              "    <tr>\n",
              "      <th>0</th>\n",
              "      <td>605</td>\n",
              "      <td>ham</td>\n",
              "      <td>Subject: enron methanol ; meter # : 988291\\r\\n...</td>\n",
              "      <td>0</td>\n",
              "    </tr>\n",
              "    <tr>\n",
              "      <th>1</th>\n",
              "      <td>2349</td>\n",
              "      <td>ham</td>\n",
              "      <td>Subject: hpl nom for january 9 , 2001\\r\\n( see...</td>\n",
              "      <td>0</td>\n",
              "    </tr>\n",
              "    <tr>\n",
              "      <th>2</th>\n",
              "      <td>3624</td>\n",
              "      <td>ham</td>\n",
              "      <td>Subject: neon retreat\\r\\nho ho ho , we ' re ar...</td>\n",
              "      <td>0</td>\n",
              "    </tr>\n",
              "    <tr>\n",
              "      <th>3</th>\n",
              "      <td>4685</td>\n",
              "      <td>spam</td>\n",
              "      <td>Subject: photoshop , windows , office . cheap ...</td>\n",
              "      <td>1</td>\n",
              "    </tr>\n",
              "    <tr>\n",
              "      <th>4</th>\n",
              "      <td>2030</td>\n",
              "      <td>ham</td>\n",
              "      <td>Subject: re : indian springs\\r\\nthis deal is t...</td>\n",
              "      <td>0</td>\n",
              "    </tr>\n",
              "  </tbody>\n",
              "</table>\n",
              "</div>\n",
              "      <button class=\"colab-df-convert\" onclick=\"convertToInteractive('df-ea67d868-9496-4890-8c8a-f38238345a23')\"\n",
              "              title=\"Convert this dataframe to an interactive table.\"\n",
              "              style=\"display:none;\">\n",
              "        \n",
              "  <svg xmlns=\"http://www.w3.org/2000/svg\" height=\"24px\"viewBox=\"0 0 24 24\"\n",
              "       width=\"24px\">\n",
              "    <path d=\"M0 0h24v24H0V0z\" fill=\"none\"/>\n",
              "    <path d=\"M18.56 5.44l.94 2.06.94-2.06 2.06-.94-2.06-.94-.94-2.06-.94 2.06-2.06.94zm-11 1L8.5 8.5l.94-2.06 2.06-.94-2.06-.94L8.5 2.5l-.94 2.06-2.06.94zm10 10l.94 2.06.94-2.06 2.06-.94-2.06-.94-.94-2.06-.94 2.06-2.06.94z\"/><path d=\"M17.41 7.96l-1.37-1.37c-.4-.4-.92-.59-1.43-.59-.52 0-1.04.2-1.43.59L10.3 9.45l-7.72 7.72c-.78.78-.78 2.05 0 2.83L4 21.41c.39.39.9.59 1.41.59.51 0 1.02-.2 1.41-.59l7.78-7.78 2.81-2.81c.8-.78.8-2.07 0-2.86zM5.41 20L4 18.59l7.72-7.72 1.47 1.35L5.41 20z\"/>\n",
              "  </svg>\n",
              "      </button>\n",
              "      \n",
              "  <style>\n",
              "    .colab-df-container {\n",
              "      display:flex;\n",
              "      flex-wrap:wrap;\n",
              "      gap: 12px;\n",
              "    }\n",
              "\n",
              "    .colab-df-convert {\n",
              "      background-color: #E8F0FE;\n",
              "      border: none;\n",
              "      border-radius: 50%;\n",
              "      cursor: pointer;\n",
              "      display: none;\n",
              "      fill: #1967D2;\n",
              "      height: 32px;\n",
              "      padding: 0 0 0 0;\n",
              "      width: 32px;\n",
              "    }\n",
              "\n",
              "    .colab-df-convert:hover {\n",
              "      background-color: #E2EBFA;\n",
              "      box-shadow: 0px 1px 2px rgba(60, 64, 67, 0.3), 0px 1px 3px 1px rgba(60, 64, 67, 0.15);\n",
              "      fill: #174EA6;\n",
              "    }\n",
              "\n",
              "    [theme=dark] .colab-df-convert {\n",
              "      background-color: #3B4455;\n",
              "      fill: #D2E3FC;\n",
              "    }\n",
              "\n",
              "    [theme=dark] .colab-df-convert:hover {\n",
              "      background-color: #434B5C;\n",
              "      box-shadow: 0px 1px 3px 1px rgba(0, 0, 0, 0.15);\n",
              "      filter: drop-shadow(0px 1px 2px rgba(0, 0, 0, 0.3));\n",
              "      fill: #FFFFFF;\n",
              "    }\n",
              "  </style>\n",
              "\n",
              "      <script>\n",
              "        const buttonEl =\n",
              "          document.querySelector('#df-ea67d868-9496-4890-8c8a-f38238345a23 button.colab-df-convert');\n",
              "        buttonEl.style.display =\n",
              "          google.colab.kernel.accessAllowed ? 'block' : 'none';\n",
              "\n",
              "        async function convertToInteractive(key) {\n",
              "          const element = document.querySelector('#df-ea67d868-9496-4890-8c8a-f38238345a23');\n",
              "          const dataTable =\n",
              "            await google.colab.kernel.invokeFunction('convertToInteractive',\n",
              "                                                     [key], {});\n",
              "          if (!dataTable) return;\n",
              "\n",
              "          const docLinkHtml = 'Like what you see? Visit the ' +\n",
              "            '<a target=\"_blank\" href=https://colab.research.google.com/notebooks/data_table.ipynb>data table notebook</a>'\n",
              "            + ' to learn more about interactive tables.';\n",
              "          element.innerHTML = '';\n",
              "          dataTable['output_type'] = 'display_data';\n",
              "          await google.colab.output.renderOutput(dataTable, element);\n",
              "          const docLink = document.createElement('div');\n",
              "          docLink.innerHTML = docLinkHtml;\n",
              "          element.appendChild(docLink);\n",
              "        }\n",
              "      </script>\n",
              "    </div>\n",
              "  </div>\n",
              "  "
            ]
          },
          "metadata": {},
          "execution_count": 29
        }
      ],
      "source": [
        "data = pd.read_csv('spam_ham_dataset.csv',encoding='latin-1')\n",
        "data.head()"
      ]
    },
    {
      "cell_type": "markdown",
      "source": [
        "dropping a column 'Unnamed: 0' as it is not required and renaming the column names"
      ],
      "metadata": {
        "id": "sogLMnqbZVmg"
      }
    },
    {
      "cell_type": "code",
      "execution_count": null,
      "metadata": {
        "colab": {
          "base_uri": "https://localhost:8080/",
          "height": 206
        },
        "id": "Ak04DwWzJRBg",
        "outputId": "00a3ebf9-c9f3-4d9b-c440-064f41d3e4d2"
      },
      "outputs": [
        {
          "output_type": "execute_result",
          "data": {
            "text/plain": [
              "  label                                               text  label_num\n",
              "0   ham  Subject: enron methanol ; meter # : 988291\\r\\n...          0\n",
              "1   ham  Subject: hpl nom for january 9 , 2001\\r\\n( see...          0\n",
              "2   ham  Subject: neon retreat\\r\\nho ho ho , we ' re ar...          0\n",
              "3  spam  Subject: photoshop , windows , office . cheap ...          1\n",
              "4   ham  Subject: re : indian springs\\r\\nthis deal is t...          0"
            ],
            "text/html": [
              "\n",
              "  <div id=\"df-c257f3f9-bfff-454d-afc1-2aa635385318\">\n",
              "    <div class=\"colab-df-container\">\n",
              "      <div>\n",
              "<style scoped>\n",
              "    .dataframe tbody tr th:only-of-type {\n",
              "        vertical-align: middle;\n",
              "    }\n",
              "\n",
              "    .dataframe tbody tr th {\n",
              "        vertical-align: top;\n",
              "    }\n",
              "\n",
              "    .dataframe thead th {\n",
              "        text-align: right;\n",
              "    }\n",
              "</style>\n",
              "<table border=\"1\" class=\"dataframe\">\n",
              "  <thead>\n",
              "    <tr style=\"text-align: right;\">\n",
              "      <th></th>\n",
              "      <th>label</th>\n",
              "      <th>text</th>\n",
              "      <th>label_num</th>\n",
              "    </tr>\n",
              "  </thead>\n",
              "  <tbody>\n",
              "    <tr>\n",
              "      <th>0</th>\n",
              "      <td>ham</td>\n",
              "      <td>Subject: enron methanol ; meter # : 988291\\r\\n...</td>\n",
              "      <td>0</td>\n",
              "    </tr>\n",
              "    <tr>\n",
              "      <th>1</th>\n",
              "      <td>ham</td>\n",
              "      <td>Subject: hpl nom for january 9 , 2001\\r\\n( see...</td>\n",
              "      <td>0</td>\n",
              "    </tr>\n",
              "    <tr>\n",
              "      <th>2</th>\n",
              "      <td>ham</td>\n",
              "      <td>Subject: neon retreat\\r\\nho ho ho , we ' re ar...</td>\n",
              "      <td>0</td>\n",
              "    </tr>\n",
              "    <tr>\n",
              "      <th>3</th>\n",
              "      <td>spam</td>\n",
              "      <td>Subject: photoshop , windows , office . cheap ...</td>\n",
              "      <td>1</td>\n",
              "    </tr>\n",
              "    <tr>\n",
              "      <th>4</th>\n",
              "      <td>ham</td>\n",
              "      <td>Subject: re : indian springs\\r\\nthis deal is t...</td>\n",
              "      <td>0</td>\n",
              "    </tr>\n",
              "  </tbody>\n",
              "</table>\n",
              "</div>\n",
              "      <button class=\"colab-df-convert\" onclick=\"convertToInteractive('df-c257f3f9-bfff-454d-afc1-2aa635385318')\"\n",
              "              title=\"Convert this dataframe to an interactive table.\"\n",
              "              style=\"display:none;\">\n",
              "        \n",
              "  <svg xmlns=\"http://www.w3.org/2000/svg\" height=\"24px\"viewBox=\"0 0 24 24\"\n",
              "       width=\"24px\">\n",
              "    <path d=\"M0 0h24v24H0V0z\" fill=\"none\"/>\n",
              "    <path d=\"M18.56 5.44l.94 2.06.94-2.06 2.06-.94-2.06-.94-.94-2.06-.94 2.06-2.06.94zm-11 1L8.5 8.5l.94-2.06 2.06-.94-2.06-.94L8.5 2.5l-.94 2.06-2.06.94zm10 10l.94 2.06.94-2.06 2.06-.94-2.06-.94-.94-2.06-.94 2.06-2.06.94z\"/><path d=\"M17.41 7.96l-1.37-1.37c-.4-.4-.92-.59-1.43-.59-.52 0-1.04.2-1.43.59L10.3 9.45l-7.72 7.72c-.78.78-.78 2.05 0 2.83L4 21.41c.39.39.9.59 1.41.59.51 0 1.02-.2 1.41-.59l7.78-7.78 2.81-2.81c.8-.78.8-2.07 0-2.86zM5.41 20L4 18.59l7.72-7.72 1.47 1.35L5.41 20z\"/>\n",
              "  </svg>\n",
              "      </button>\n",
              "      \n",
              "  <style>\n",
              "    .colab-df-container {\n",
              "      display:flex;\n",
              "      flex-wrap:wrap;\n",
              "      gap: 12px;\n",
              "    }\n",
              "\n",
              "    .colab-df-convert {\n",
              "      background-color: #E8F0FE;\n",
              "      border: none;\n",
              "      border-radius: 50%;\n",
              "      cursor: pointer;\n",
              "      display: none;\n",
              "      fill: #1967D2;\n",
              "      height: 32px;\n",
              "      padding: 0 0 0 0;\n",
              "      width: 32px;\n",
              "    }\n",
              "\n",
              "    .colab-df-convert:hover {\n",
              "      background-color: #E2EBFA;\n",
              "      box-shadow: 0px 1px 2px rgba(60, 64, 67, 0.3), 0px 1px 3px 1px rgba(60, 64, 67, 0.15);\n",
              "      fill: #174EA6;\n",
              "    }\n",
              "\n",
              "    [theme=dark] .colab-df-convert {\n",
              "      background-color: #3B4455;\n",
              "      fill: #D2E3FC;\n",
              "    }\n",
              "\n",
              "    [theme=dark] .colab-df-convert:hover {\n",
              "      background-color: #434B5C;\n",
              "      box-shadow: 0px 1px 3px 1px rgba(0, 0, 0, 0.15);\n",
              "      filter: drop-shadow(0px 1px 2px rgba(0, 0, 0, 0.3));\n",
              "      fill: #FFFFFF;\n",
              "    }\n",
              "  </style>\n",
              "\n",
              "      <script>\n",
              "        const buttonEl =\n",
              "          document.querySelector('#df-c257f3f9-bfff-454d-afc1-2aa635385318 button.colab-df-convert');\n",
              "        buttonEl.style.display =\n",
              "          google.colab.kernel.accessAllowed ? 'block' : 'none';\n",
              "\n",
              "        async function convertToInteractive(key) {\n",
              "          const element = document.querySelector('#df-c257f3f9-bfff-454d-afc1-2aa635385318');\n",
              "          const dataTable =\n",
              "            await google.colab.kernel.invokeFunction('convertToInteractive',\n",
              "                                                     [key], {});\n",
              "          if (!dataTable) return;\n",
              "\n",
              "          const docLinkHtml = 'Like what you see? Visit the ' +\n",
              "            '<a target=\"_blank\" href=https://colab.research.google.com/notebooks/data_table.ipynb>data table notebook</a>'\n",
              "            + ' to learn more about interactive tables.';\n",
              "          element.innerHTML = '';\n",
              "          dataTable['output_type'] = 'display_data';\n",
              "          await google.colab.output.renderOutput(dataTable, element);\n",
              "          const docLink = document.createElement('div');\n",
              "          docLink.innerHTML = docLinkHtml;\n",
              "          element.appendChild(docLink);\n",
              "        }\n",
              "      </script>\n",
              "    </div>\n",
              "  </div>\n",
              "  "
            ]
          },
          "metadata": {},
          "execution_count": 30
        }
      ],
      "source": [
        "data = data.drop([\"Unnamed: 0\"], axis=1)\n",
        "data = data.rename(columns={\"v1\":\"label\", \"v2\":\"text\", \"v3\":\"label_num\"})\n",
        "data.head()"
      ]
    },
    {
      "cell_type": "markdown",
      "source": [
        "counting the number of spam and ham values"
      ],
      "metadata": {
        "id": "EQVcfsHWZhd6"
      }
    },
    {
      "cell_type": "code",
      "execution_count": null,
      "metadata": {
        "colab": {
          "base_uri": "https://localhost:8080/"
        },
        "id": "xbFiTQTBKS0L",
        "outputId": "096001bc-f119-4627-942c-2396aac794a3"
      },
      "outputs": [
        {
          "output_type": "execute_result",
          "data": {
            "text/plain": [
              "ham     3672\n",
              "spam    1499\n",
              "Name: label, dtype: int64"
            ]
          },
          "metadata": {},
          "execution_count": 31
        }
      ],
      "source": [
        "data.label.value_counts()"
      ]
    },
    {
      "cell_type": "markdown",
      "source": [
        "finding the length of the each text and creating a separate column with the respective length values"
      ],
      "metadata": {
        "id": "aFF3d1ZgZsFG"
      }
    },
    {
      "cell_type": "code",
      "execution_count": null,
      "metadata": {
        "colab": {
          "base_uri": "https://localhost:8080/",
          "height": 206
        },
        "id": "odlNYN-IKdyH",
        "outputId": "77b7254f-36b6-48ba-a9c3-a73d21130287"
      },
      "outputs": [
        {
          "output_type": "execute_result",
          "data": {
            "text/plain": [
              "  label                                               text  label_num  length\n",
              "0   ham  Subject: enron methanol ; meter # : 988291\\r\\n...          0     327\n",
              "1   ham  Subject: hpl nom for january 9 , 2001\\r\\n( see...          0      97\n",
              "2   ham  Subject: neon retreat\\r\\nho ho ho , we ' re ar...          0    2524\n",
              "3  spam  Subject: photoshop , windows , office . cheap ...          1     414\n",
              "4   ham  Subject: re : indian springs\\r\\nthis deal is t...          0     336"
            ],
            "text/html": [
              "\n",
              "  <div id=\"df-15686241-2aaf-4322-9773-31237dbc82af\">\n",
              "    <div class=\"colab-df-container\">\n",
              "      <div>\n",
              "<style scoped>\n",
              "    .dataframe tbody tr th:only-of-type {\n",
              "        vertical-align: middle;\n",
              "    }\n",
              "\n",
              "    .dataframe tbody tr th {\n",
              "        vertical-align: top;\n",
              "    }\n",
              "\n",
              "    .dataframe thead th {\n",
              "        text-align: right;\n",
              "    }\n",
              "</style>\n",
              "<table border=\"1\" class=\"dataframe\">\n",
              "  <thead>\n",
              "    <tr style=\"text-align: right;\">\n",
              "      <th></th>\n",
              "      <th>label</th>\n",
              "      <th>text</th>\n",
              "      <th>label_num</th>\n",
              "      <th>length</th>\n",
              "    </tr>\n",
              "  </thead>\n",
              "  <tbody>\n",
              "    <tr>\n",
              "      <th>0</th>\n",
              "      <td>ham</td>\n",
              "      <td>Subject: enron methanol ; meter # : 988291\\r\\n...</td>\n",
              "      <td>0</td>\n",
              "      <td>327</td>\n",
              "    </tr>\n",
              "    <tr>\n",
              "      <th>1</th>\n",
              "      <td>ham</td>\n",
              "      <td>Subject: hpl nom for january 9 , 2001\\r\\n( see...</td>\n",
              "      <td>0</td>\n",
              "      <td>97</td>\n",
              "    </tr>\n",
              "    <tr>\n",
              "      <th>2</th>\n",
              "      <td>ham</td>\n",
              "      <td>Subject: neon retreat\\r\\nho ho ho , we ' re ar...</td>\n",
              "      <td>0</td>\n",
              "      <td>2524</td>\n",
              "    </tr>\n",
              "    <tr>\n",
              "      <th>3</th>\n",
              "      <td>spam</td>\n",
              "      <td>Subject: photoshop , windows , office . cheap ...</td>\n",
              "      <td>1</td>\n",
              "      <td>414</td>\n",
              "    </tr>\n",
              "    <tr>\n",
              "      <th>4</th>\n",
              "      <td>ham</td>\n",
              "      <td>Subject: re : indian springs\\r\\nthis deal is t...</td>\n",
              "      <td>0</td>\n",
              "      <td>336</td>\n",
              "    </tr>\n",
              "  </tbody>\n",
              "</table>\n",
              "</div>\n",
              "      <button class=\"colab-df-convert\" onclick=\"convertToInteractive('df-15686241-2aaf-4322-9773-31237dbc82af')\"\n",
              "              title=\"Convert this dataframe to an interactive table.\"\n",
              "              style=\"display:none;\">\n",
              "        \n",
              "  <svg xmlns=\"http://www.w3.org/2000/svg\" height=\"24px\"viewBox=\"0 0 24 24\"\n",
              "       width=\"24px\">\n",
              "    <path d=\"M0 0h24v24H0V0z\" fill=\"none\"/>\n",
              "    <path d=\"M18.56 5.44l.94 2.06.94-2.06 2.06-.94-2.06-.94-.94-2.06-.94 2.06-2.06.94zm-11 1L8.5 8.5l.94-2.06 2.06-.94-2.06-.94L8.5 2.5l-.94 2.06-2.06.94zm10 10l.94 2.06.94-2.06 2.06-.94-2.06-.94-.94-2.06-.94 2.06-2.06.94z\"/><path d=\"M17.41 7.96l-1.37-1.37c-.4-.4-.92-.59-1.43-.59-.52 0-1.04.2-1.43.59L10.3 9.45l-7.72 7.72c-.78.78-.78 2.05 0 2.83L4 21.41c.39.39.9.59 1.41.59.51 0 1.02-.2 1.41-.59l7.78-7.78 2.81-2.81c.8-.78.8-2.07 0-2.86zM5.41 20L4 18.59l7.72-7.72 1.47 1.35L5.41 20z\"/>\n",
              "  </svg>\n",
              "      </button>\n",
              "      \n",
              "  <style>\n",
              "    .colab-df-container {\n",
              "      display:flex;\n",
              "      flex-wrap:wrap;\n",
              "      gap: 12px;\n",
              "    }\n",
              "\n",
              "    .colab-df-convert {\n",
              "      background-color: #E8F0FE;\n",
              "      border: none;\n",
              "      border-radius: 50%;\n",
              "      cursor: pointer;\n",
              "      display: none;\n",
              "      fill: #1967D2;\n",
              "      height: 32px;\n",
              "      padding: 0 0 0 0;\n",
              "      width: 32px;\n",
              "    }\n",
              "\n",
              "    .colab-df-convert:hover {\n",
              "      background-color: #E2EBFA;\n",
              "      box-shadow: 0px 1px 2px rgba(60, 64, 67, 0.3), 0px 1px 3px 1px rgba(60, 64, 67, 0.15);\n",
              "      fill: #174EA6;\n",
              "    }\n",
              "\n",
              "    [theme=dark] .colab-df-convert {\n",
              "      background-color: #3B4455;\n",
              "      fill: #D2E3FC;\n",
              "    }\n",
              "\n",
              "    [theme=dark] .colab-df-convert:hover {\n",
              "      background-color: #434B5C;\n",
              "      box-shadow: 0px 1px 3px 1px rgba(0, 0, 0, 0.15);\n",
              "      filter: drop-shadow(0px 1px 2px rgba(0, 0, 0, 0.3));\n",
              "      fill: #FFFFFF;\n",
              "    }\n",
              "  </style>\n",
              "\n",
              "      <script>\n",
              "        const buttonEl =\n",
              "          document.querySelector('#df-15686241-2aaf-4322-9773-31237dbc82af button.colab-df-convert');\n",
              "        buttonEl.style.display =\n",
              "          google.colab.kernel.accessAllowed ? 'block' : 'none';\n",
              "\n",
              "        async function convertToInteractive(key) {\n",
              "          const element = document.querySelector('#df-15686241-2aaf-4322-9773-31237dbc82af');\n",
              "          const dataTable =\n",
              "            await google.colab.kernel.invokeFunction('convertToInteractive',\n",
              "                                                     [key], {});\n",
              "          if (!dataTable) return;\n",
              "\n",
              "          const docLinkHtml = 'Like what you see? Visit the ' +\n",
              "            '<a target=\"_blank\" href=https://colab.research.google.com/notebooks/data_table.ipynb>data table notebook</a>'\n",
              "            + ' to learn more about interactive tables.';\n",
              "          element.innerHTML = '';\n",
              "          dataTable['output_type'] = 'display_data';\n",
              "          await google.colab.output.renderOutput(dataTable, element);\n",
              "          const docLink = document.createElement('div');\n",
              "          docLink.innerHTML = docLinkHtml;\n",
              "          element.appendChild(docLink);\n",
              "        }\n",
              "      </script>\n",
              "    </div>\n",
              "  </div>\n",
              "  "
            ]
          },
          "metadata": {},
          "execution_count": 32
        }
      ],
      "source": [
        "data['length'] = data['text'].apply(len)\n",
        "data.head()"
      ]
    },
    {
      "cell_type": "markdown",
      "source": [
        "splitting the data into training and testing sets"
      ],
      "metadata": {
        "id": "Ogf6NtA6Z5L8"
      }
    },
    {
      "cell_type": "code",
      "execution_count": null,
      "metadata": {
        "id": "kAfKaQicK1y2"
      },
      "outputs": [],
      "source": [
        "X = data['text']\n",
        "Y = data['label_num']\n",
        "from sklearn.model_selection import train_test_split as tt\n",
        "X_train, X_test, Y_train, Y_test = tt(X, Y,test_size=0.2, random_state=100)"
      ]
    },
    {
      "cell_type": "markdown",
      "source": [
        "Determining the shape of the traning set"
      ],
      "metadata": {
        "id": "KNLpKhG2Z2aR"
      }
    },
    {
      "cell_type": "code",
      "execution_count": null,
      "metadata": {
        "colab": {
          "base_uri": "https://localhost:8080/"
        },
        "id": "MI5urKY3LCTX",
        "outputId": "2962a31c-b71a-4b02-f678-dcc124a2062f"
      },
      "outputs": [
        {
          "output_type": "execute_result",
          "data": {
            "text/plain": [
              "(4136,)"
            ]
          },
          "metadata": {},
          "execution_count": 34
        }
      ],
      "source": [
        "X_train.shape"
      ]
    },
    {
      "cell_type": "markdown",
      "source": [
        "Determining the shape of the testing set"
      ],
      "metadata": {
        "id": "Ru8l2fA5aF5K"
      }
    },
    {
      "cell_type": "code",
      "execution_count": null,
      "metadata": {
        "colab": {
          "base_uri": "https://localhost:8080/"
        },
        "id": "B2US-hfgLExr",
        "outputId": "b9c12ca6-367b-4cd7-e0aa-4df14f14829d"
      },
      "outputs": [
        {
          "output_type": "execute_result",
          "data": {
            "text/plain": [
              "(1035,)"
            ]
          },
          "metadata": {},
          "execution_count": 35
        }
      ],
      "source": [
        "X_test.shape"
      ]
    },
    {
      "cell_type": "markdown",
      "source": [
        "Dropping down the words that are not present in english dictionaries as those words give out unnecessary errors"
      ],
      "metadata": {
        "id": "hXRJatG_aPEL"
      }
    },
    {
      "cell_type": "code",
      "execution_count": null,
      "metadata": {
        "colab": {
          "base_uri": "https://localhost:8080/"
        },
        "id": "UC5IQ6DNLHps",
        "outputId": "7f50a79e-59ee-4731-f020-a72f1ab6e111"
      },
      "outputs": [
        {
          "output_type": "execute_result",
          "data": {
            "text/plain": [
              "CountVectorizer(stop_words='english')"
            ]
          },
          "metadata": {},
          "execution_count": 36
        }
      ],
      "source": [
        "from sklearn.feature_extraction.text import CountVectorizer\n",
        "vector = CountVectorizer(stop_words ='english')\n",
        "vector.fit(X_train)"
      ]
    },
    {
      "cell_type": "markdown",
      "source": [
        "printing out the frequency of each word with vector.vocabulary_"
      ],
      "metadata": {
        "id": "81nYuBZAa1Xu"
      }
    },
    {
      "cell_type": "code",
      "execution_count": null,
      "metadata": {
        "colab": {
          "base_uri": "https://localhost:8080/"
        },
        "id": "gq-JyGHtLMpe",
        "outputId": "e2096310-123d-456b-f666-715289376ce9"
      },
      "outputs": [
        {
          "output_type": "execute_result",
          "data": {
            "text/plain": [
              "{'subject': 38280,\n",
              " 'day': 13745,\n",
              " 'change': 10647,\n",
              " 'revision': 34637,\n",
              " 'hpl': 21784,\n",
              " 'nom': 29171,\n",
              " 'february': 17976,\n",
              " '10': 231,\n",
              " '2001': 993,\n",
              " 'attached': 6714,\n",
              " 'file': 18201,\n",
              " 'hplno': 21790,\n",
              " '210': 1063,\n",
              " 'xls': 43362,\n",
              " 'fyi': 19211,\n",
              " 'just': 24225,\n",
              " 'wanted': 42219,\n",
              " 'let': 25495,\n",
              " 'know': 24724,\n",
              " 'entex': 16793,\n",
              " 'information': 22821,\n",
              " 'following': 18621,\n",
              " 'directory': 14834,\n",
              " 'logistics': 25968,\n",
              " 'reference': 33971,\n",
              " 'tab': 38824,\n",
              " 'historical': 21415,\n",
              " 'volumes': 41991,\n",
              " 'risk': 34849,\n",
              " 'folder': 18603,\n",
              " 'erms': 17034,\n",
              " 'intra': 23179,\n",
              " 'texas': 39347,\n",
              " 'databases': 13699,\n",
              " 'think': 39505,\n",
              " 'need': 28787,\n",
              " 'ac': 4385,\n",
              " 'et': 17166,\n",
              " 'vi': 41681,\n",
              " 'codin': 11595,\n",
              " 'le': 25304,\n",
              " 'ally': 5449,\n",
              " 'baronial': 7384,\n",
              " 'fy': 19208,\n",
              " 'dmabi': 15172,\n",
              " 'hey': 21258,\n",
              " 'ofore': 29724,\n",
              " 'phacy': 31266,\n",
              " 'specials': 37493,\n",
              " 'viin': 41777,\n",
              " 'van': 41432,\n",
              " 'ax': 7030,\n",
              " 'tariff': 38996,\n",
              " 'pleaove': 31739,\n",
              " 'taunt': 39021,\n",
              " 'accompaniment': 4439,\n",
              " 'yjhanl': 43626,\n",
              " 'pactwmtnfbiiw': 30480,\n",
              " 'pl': 31640,\n",
              " 'ym': 43642,\n",
              " 'romjr': 35074,\n",
              " 'jco': 23713,\n",
              " 'jbxdlnvtwszthg': 23706,\n",
              " 'njrjduhen': 29089,\n",
              " 'yfwvg': 43599,\n",
              " 'lrn': 26181,\n",
              " 'koch': 24742,\n",
              " 'midstream': 27574,\n",
              " 'services': 36239,\n",
              " 'tina': 39714,\n",
              " 'returned': 34590,\n",
              " 'calls': 9805,\n",
              " 'based': 7424,\n",
              " 'contractual': 12448,\n",
              " 'putting': 33027,\n",
              " 'area': 6267,\n",
              " 'assigning': 6578,\n",
              " 'deals': 13842,\n",
              " 'proper': 32689,\n",
              " 'documentation': 15233,\n",
              " 'supplied': 38497,\n",
              " 'did': 14677,\n",
              " 'refence': 33965,\n",
              " 'ena': 16593,\n",
              " 'agreements': 5061,\n",
              " 'specific': 37497,\n",
              " 'meter': 27431,\n",
              " 'numbers': 29407,\n",
              " 'purchase': 32968,\n",
              " 'sale': 35465,\n",
              " 'listing': 25763,\n",
              " 'meters': 27434,\n",
              " 'acquired': 4563,\n",
              " 'effective': 16153,\n",
              " 'date': 13705,\n",
              " 'apparently': 6065,\n",
              " 'supplier': 38498,\n",
              " 'substaintial': 38309,\n",
              " 'purchaser': 32970,\n",
              " 'basically': 7441,\n",
              " 'relying': 34186,\n",
              " 'relationship': 34131,\n",
              " 'btw': 9302,\n",
              " 'duke': 15705,\n",
              " 'cyndie': 13477,\n",
              " 'global': 19887,\n",
              " 'contracts': 12446,\n",
              " 'valadez': 41357,\n",
              " 'ect': 16042,\n",
              " '16': 787,\n",
              " '2000': 989,\n",
              " '11': 328,\n",
              " '50': 2297,\n",
              " 'daren': 13642,\n",
              " 'farmer': 17843,\n",
              " 'hou': 21740,\n",
              " 'cc': 10342,\n",
              " 'balfour': 7224,\n",
              " 'flanagan': 18419,\n",
              " 'corp': 12669,\n",
              " 'enron': 16750,\n",
              " 'kristen': 24839,\n",
              " 'hanson': 20773,\n",
              " 'sitara': 36857,\n",
              " 'tickets': 39643,\n",
              " 'dating': 13713,\n",
              " 'january': 23657,\n",
              " 'finished': 18292,\n",
              " 'thank': 39404,\n",
              " '15': 705,\n",
              " 'carlos': 10084,\n",
              " 'rodriguez': 35028,\n",
              " 'told': 39879,\n",
              " 'sold': 37260,\n",
              " 'properties': 32691,\n",
              " 'say': 35671,\n",
              " 'paying': 30855,\n",
              " 'gas': 19363,\n",
              " 'heard': 21013,\n",
              " 'counterparty': 12811,\n",
              " 'wasn': 42279,\n",
              " 'sure': 38534,\n",
              " 'talked': 38917,\n",
              " 'left': 25388,\n",
              " 'message': 27402,\n",
              " 'settlements': 36265,\n",
              " 'months': 28099,\n",
              " 'ago': 5044,\n",
              " 'informed': 22825,\n",
              " 'trader': 40071,\n",
              " 'getting': 19661,\n",
              " 'invoices': 23273,\n",
              " 'related': 34126,\n",
              " 'ces': 10541,\n",
              " 'acquisition': 4566,\n",
              " 'came': 9833,\n",
              " 'online': 29901,\n",
              " 'year': 43563,\n",
              " 'deal': 13834,\n",
              " 'info': 22815,\n",
              " 'time': 39690,\n",
              " 'booked': 8665,\n",
              " 'create': 13006,\n",
              " 'new': 28919,\n",
              " 'today': 39853,\n",
              " 'invoice': 23271,\n",
              " 'door': 15355,\n",
              " 'coordinate': 12563,\n",
              " 'contract': 12440,\n",
              " 'group': 20357,\n",
              " 'correct': 12689,\n",
              " 'place': 31644,\n",
              " '18': 880,\n",
              " 'billing': 8160,\n",
              " 'll': 25836,\n",
              " '0030': 26,\n",
              " 'comitas': 11804,\n",
              " '144052': 658,\n",
              " '0027': 21,\n",
              " 'volpe': 41982,\n",
              " '144049': 657,\n",
              " 'accounting': 4463,\n",
              " 'contact': 12384,\n",
              " 'michael': 27514,\n",
              " 'thomas': 39535,\n",
              " 'said': 35434,\n",
              " 'south': 37401,\n",
              " 'assets': 6568,\n",
              " 'energy': 16660,\n",
              " 'field': 18170,\n",
              " '1999': 986,\n",
              " 'faxed': 17910,\n",
              " 'forwarded': 18789,\n",
              " 'cindy': 11126,\n",
              " 'flannigan': 18421,\n",
              " 'tie': 39653,\n",
              " 'recognize': 33827,\n",
              " 'assignment': 6579,\n",
              " 'messages': 27404,\n",
              " 'able': 4293,\n",
              " 'resolve': 34465,\n",
              " 'issue': 23462,\n",
              " 'refusing': 34028,\n",
              " 'pay': 30846,\n",
              " 'currently': 13340,\n",
              " 'million': 27655,\n",
              " 'dollars': 15284,\n",
              " 'outstanding': 30290,\n",
              " 'relating': 34128,\n",
              " 'responsible': 34500,\n",
              " 'regarding': 34038,\n",
              " 'thanks': 39409,\n",
              " '7548': 3197,\n",
              " '03': 89,\n",
              " 'ami': 5614,\n",
              " 'chokshi': 10936,\n",
              " '09': 196,\n",
              " '02': 73,\n",
              " '47': 2228,\n",
              " 'pm': 31806,\n",
              " 'regards': 34040,\n",
              " 'ti': 39628,\n",
              " 'talk': 38916,\n",
              " 'help': 21123,\n",
              " 'hampton': 20704,\n",
              " 'refining': 33993,\n",
              " 'added': 4662,\n",
              " '541123': 2463,\n",
              " 'buyback': 9569,\n",
              " 'december': 13908,\n",
              " '25': 1261,\n",
              " '31': 1517,\n",
              " 'total': 39983,\n",
              " 'flow': 18523,\n",
              " '12': 392,\n",
              " '01': 52,\n",
              " '24': 1212,\n",
              " 'invoiced': 23272,\n",
              " 'minimum': 27707,\n",
              " '1700': 837,\n",
              " 'mmbtu': 27890,\n",
              " 'buy': 9568,\n",
              " '900': 3574,\n",
              " 'questions': 33330,\n",
              " 'forward': 18788,\n",
              " 'client': 11364,\n",
              " 'clean': 11304,\n",
              " 'make': 26538,\n",
              " 'changes': 10651,\n",
              " 'require': 34389,\n",
              " 'copy': 12598,\n",
              " 'ticket': 39640,\n",
              " 'afternoon': 4978,\n",
              " 'concerns': 12071,\n",
              " 'met': 27411,\n",
              " '3048': 1497,\n",
              " 'elizabeth': 16383,\n",
              " 'hernandez': 21201,\n",
              " '05': 135,\n",
              " '07': 171,\n",
              " '04': 113,\n",
              " '21': 1062,\n",
              " 'jeffrey': 23759,\n",
              " 'gossett': 20089,\n",
              " 'linda': 25685,\n",
              " 'bryan': 9253,\n",
              " 'listed': 25759,\n",
              " 'rec': 33762,\n",
              " 'consent': 12282,\n",
              " 'showing': 36622,\n",
              " 'necessary': 28771,\n",
              " 'cp': 12911,\n",
              " 'executed': 17413,\n",
              " 'entergy': 16780,\n",
              " 'orleans': 30153,\n",
              " '140327': 615,\n",
              " '08': 182,\n",
              " '00': 0,\n",
              " '140330': 616,\n",
              " '140332': 617,\n",
              " '140334': 618,\n",
              " '140336': 619,\n",
              " '140337': 620,\n",
              " 'flash': 18424,\n",
              " 'oil': 29764,\n",
              " 'southwest': 37410,\n",
              " '263609': 1333,\n",
              " 'hunt': 21924,\n",
              " 'lydia': 26339,\n",
              " '263650': 1334,\n",
              " '06': 153,\n",
              " 'james': 23625,\n",
              " 'brummage': 9232,\n",
              " '220339': 1111,\n",
              " 'lakeland': 25041,\n",
              " 'city': 11200,\n",
              " '142035': 638,\n",
              " '142036': 639,\n",
              " '142037': 640,\n",
              " 'ochs': 29615,\n",
              " 'bros': 9194,\n",
              " '229857': 1175,\n",
              " '19': 923,\n",
              " 'th': 39395,\n",
              " 'noms': 29195,\n",
              " '49': 2284,\n",
              " 'troy': 40377,\n",
              " 'benoit': 7859,\n",
              " 'reliantenergy': 34164,\n",
              " 'com': 11753,\n",
              " '26': 1322,\n",
              " 'egmnom': 16202,\n",
              " 'jan': 23632,\n",
              " 'cobra': 11550,\n",
              " 'operating': 29973,\n",
              " '9748': 3888,\n",
              " 'volume': 41989,\n",
              " 'revised': 34635,\n",
              " '000': 1,\n",
              " '137205': 547,\n",
              " '30': 1476,\n",
              " 'bob': 8556,\n",
              " 'solid': 37281,\n",
              " 'loans': 25905,\n",
              " 'simple': 36787,\n",
              " 'maybe': 26959,\n",
              " 'http': 21850,\n",
              " 'taifd': 38882,\n",
              " 'lowered': 26135,\n",
              " 'rates': 33597,\n",
              " 'rem': 34187,\n",
              " 'php': 31403,\n",
              " 'form': 18735,\n",
              " 'retiree': 34568,\n",
              " 'tax': 39026,\n",
              " '1099': 326,\n",
              " 'mailed': 26496,\n",
              " 'address': 4677,\n",
              " 'record': 33851,\n",
              " 'received': 33779,\n",
              " 'request': 34384,\n",
              " 'writing': 43122,\n",
              " 'duplicate': 15747,\n",
              " 'sent': 36161,\n",
              " 'note': 29277,\n",
              " 'written': 43123,\n",
              " 'including': 22589,\n",
              " 'authorized': 6878,\n",
              " 'signature': 36725,\n",
              " 'required': 34390,\n",
              " 'requesting': 34386,\n",
              " 'specify': 37505,\n",
              " 'sign': 36721,\n",
              " 'include': 22586,\n",
              " 'complete': 11964,\n",
              " 'mailing': 26498,\n",
              " 'phone': 31370,\n",
              " 'number': 29405,\n",
              " 'social': 37214,\n",
              " 'security': 36015,\n",
              " 'mail': 26493,\n",
              " 'eb': 15969,\n",
              " '1667': 817,\n",
              " 'box': 8807,\n",
              " '1188': 384,\n",
              " 'houston': 21763,\n",
              " 'tx': 40611,\n",
              " '77002': 3242,\n",
              " 'fax': 17909,\n",
              " '713': 3065,\n",
              " '646': 2814,\n",
              " '3755': 1829,\n",
              " 'processed': 32525,\n",
              " 'week': 42428,\n",
              " 'receipt': 33773,\n",
              " 'question': 33324,\n",
              " 'ginger': 19772,\n",
              " 'sinclair': 36818,\n",
              " '853': 3458,\n",
              " '9567': 3752,\n",
              " 'detailed': 14452,\n",
              " 'payroll': 30868,\n",
              " 'soon': 37347,\n",
              " 'possible': 32063,\n",
              " 'update': 41112,\n",
              " 'supported': 38505,\n",
              " 'internet': 23126,\n",
              " 'email': 16443,\n",
              " 'addresses': 4680,\n",
              " 'earlier': 15905,\n",
              " 'technology': 39132,\n",
              " 'announced': 5855,\n",
              " 'plan': 31663,\n",
              " 'decommission': 13952,\n",
              " 'use': 41210,\n",
              " 'non': 29198,\n",
              " 'standard': 37818,\n",
              " 'formats': 18746,\n",
              " 'mentioned': 27326,\n",
              " 'previous': 32406,\n",
              " 'communication': 11882,\n",
              " 'communications': 11883,\n",
              " 'continue': 12428,\n",
              " 'provide': 32778,\n",
              " 'details': 14454,\n",
              " 'coming': 11802,\n",
              " 'weeks': 42435,\n",
              " 'significant': 36733,\n",
              " 'environment': 16839,\n",
              " 'working': 42984,\n",
              " 'cut': 13383,\n",
              " '14': 611,\n",
              " '2002': 996,\n",
              " 'longer': 26009,\n",
              " 'support': 38504,\n",
              " 'follow': 18619,\n",
              " 'format': 18743,\n",
              " 'firstname': 18341,\n",
              " 'lastname': 25165,\n",
              " 'middleinitial': 27551,\n",
              " 'lotus': 26097,\n",
              " 'notes': 29282,\n",
              " 'outlook': 30275,\n",
              " 'middle': 27549,\n",
              " 'initial': 22875,\n",
              " 'understand': 40902,\n",
              " 'arrangements': 6382,\n",
              " 'begin': 7695,\n",
              " 'using': 41228,\n",
              " 'important': 22456,\n",
              " 'making': 26545,\n",
              " 'send': 36139,\n",
              " 'messaging': 27405,\n",
              " 'administration': 4747,\n",
              " 'original': 30140,\n",
              " 'announcements': 5857,\n",
              " 'behalf': 7708,\n",
              " 'mon': 28013,\n",
              " 'worldwide': 43016,\n",
              " 'process': 32524,\n",
              " 'decommissioning': 13954,\n",
              " 'effort': 16182,\n",
              " 'completed': 11965,\n",
              " 'ei': 16225,\n",
              " 'abbreviation': 4250,\n",
              " 'acronym': 4581,\n",
              " 'alternative': 5496,\n",
              " 'employees': 16575,\n",
              " 'employee': 16574,\n",
              " 'start': 37854,\n",
              " 'existing': 17457,\n",
              " 'application': 6100,\n",
              " 'systems': 38805,\n",
              " 'business': 9515,\n",
              " 'cards': 10052,\n",
              " 'changed': 10649,\n",
              " 'remember': 34206,\n",
              " 'notify': 29293,\n",
              " 'external': 17628,\n",
              " 'contacts': 12388,\n",
              " 'sending': 36142,\n",
              " 'determine': 14468,\n",
              " 'appears': 6073,\n",
              " 'replace': 34318,\n",
              " 'spaces': 37432,\n",
              " 'appear': 6069,\n",
              " 'periods': 31087,\n",
              " 'append': 6077,\n",
              " 'example': 17340,\n",
              " 'alan': 5227,\n",
              " 'smith': 37107,\n",
              " 'robert': 34982,\n",
              " 'card': 10034,\n",
              " 'reflect': 33995,\n",
              " 'ensure': 16770,\n",
              " 'test': 39314,\n",
              " 'confirm': 12173,\n",
              " 'delivery': 14150,\n",
              " 'prior': 32462,\n",
              " 'updating': 41115,\n",
              " 'experience': 17514,\n",
              " 'issues': 23464,\n",
              " 'resolution': 34463,\n",
              " 'center': 10474,\n",
              " 'communicate': 11878,\n",
              " 'imperative': 22415,\n",
              " 'participation': 30713,\n",
              " 'cooperation': 12558,\n",
              " '98': 3912,\n",
              " '6892': 2969,\n",
              " 'overflow': 30327,\n",
              " 'victoria': 41730,\n",
              " 'versen': 41620,\n",
              " 'roll': 35050,\n",
              " '166888': 819,\n",
              " 'cover': 12873,\n",
              " 'decatherms': 13899,\n",
              " 'flowed': 18524,\n",
              " 'jackie': 23586,\n",
              " '9497': 3727,\n",
              " '17': 835,\n",
              " '44': 2100,\n",
              " 'young': 43686,\n",
              " 'east': 15946,\n",
              " 'desk': 14404,\n",
              " 'allocated': 5416,\n",
              " 'extra': 17637,\n",
              " 'pipes': 31562,\n",
              " 'balance': 7211,\n",
              " '37': 1808,\n",
              " 'extend': 17609,\n",
              " '16888': 830,\n",
              " 'dec': 13891,\n",
              " 'pharmacy': 31289,\n",
              " 'yo': 43654,\n",
              " 'like': 25643,\n",
              " 'cheap': 10758,\n",
              " 'pain': 30504,\n",
              " 'killers': 24571,\n",
              " 'www': 43192,\n",
              " 'ly': 26337,\n",
              " 'net': 28870,\n",
              " 'heads': 20989,\n",
              " 'tenaska': 39229,\n",
              " 'iv': 23517,\n",
              " 'partner': 30725,\n",
              " 'september': 36190,\n",
              " 'hi': 21289,\n",
              " 'guys': 20553,\n",
              " 'fisher': 18348,\n",
              " 'transport': 40179,\n",
              " 'huge': 21874,\n",
              " 'favor': 17898,\n",
              " 'txu': 40622,\n",
              " 'lonestar': 26005,\n",
              " 'partners': 30728,\n",
              " 'entered': 16779,\n",
              " 'path': 30784,\n",
              " 'manager': 26599,\n",
              " 'holding': 21511,\n",
              " 'waiting': 42148,\n",
              " 'enter': 16777,\n",
              " 'actuals': 4625,\n",
              " 'payment': 30856,\n",
              " 'kathy': 24348,\n",
              " 'look': 26027,\n",
              " 'wish': 42797,\n",
              " 'multi': 28396,\n",
              " 'orgasmic': 30131,\n",
              " 'best': 7959,\n",
              " 'thing': 39501,\n",
              " 'seen': 36040,\n",
              " 'girl': 19785,\n",
              " 'cumshot': 13288,\n",
              " 'used': 41211,\n",
              " 'bed': 7647,\n",
              " 'paradise': 30618,\n",
              " 'sweetie': 38672,\n",
              " 'doubt': 15413,\n",
              " 'delete': 14111,\n",
              " 'ru': 35250,\n",
              " 'revetments': 34623,\n",
              " 'rm': 34926,\n",
              " 'gall': 19264,\n",
              " 'computer': 12029,\n",
              " 'remove': 34240,\n",
              " 'spyware': 37679,\n",
              " '95': 3729,\n",
              " 'home': 21553,\n",
              " 'computers': 12030,\n",
              " 'infected': 22785,\n",
              " 'monitor': 28050,\n",
              " 'personal': 31143,\n",
              " 'chat': 10740,\n",
              " 'logs': 25976,\n",
              " 'passwords': 30762,\n",
              " 'emails': 16451,\n",
              " 'ssn': 37738,\n",
              " 'dramatically': 15504,\n",
              " 'slow': 37049,\n",
              " 'crashes': 12978,\n",
              " 'flood': 18505,\n",
              " 'aggressive': 5023,\n",
              " 'pop': 31968,\n",
              " 'ups': 41141,\n",
              " 'commercials': 11840,\n",
              " 'hide': 21304,\n",
              " 'pc': 30887,\n",
              " 'revealed': 34603,\n",
              " 'anti': 5931,\n",
              " 'virus': 41840,\n",
              " 'firewall': 18325,\n",
              " 'programs': 32613,\n",
              " 'result': 34531,\n",
              " 'credit': 13022,\n",
              " 'fraud': 18886,\n",
              " 'identity': 22170,\n",
              " 'theft': 39434,\n",
              " 'click': 11355,\n",
              " 'spy': 37677,\n",
              " 'control': 12476,\n",
              " 'scan': 35706,\n",
              " 'free': 18910,\n",
              " 'bigger': 8121,\n",
              " 'breast': 8992,\n",
              " 'pill': 31517,\n",
              " 'image': 22328,\n",
              " 'loading': 25897,\n",
              " 'cli': 11354,\n",
              " 'shipped': 36515,\n",
              " 'store': 38063,\n",
              " 'man': 26594,\n",
              " 'bought': 8767,\n",
              " 'rollers': 35053,\n",
              " 'fell': 18015,\n",
              " 'asleep': 6513,\n",
              " 'expecting': 17487,\n",
              " 'awaken': 7001,\n",
              " 'strange': 38107,\n",
              " 'called': 9796,\n",
              " 'printing': 32459,\n",
              " 'press': 32367,\n",
              " 'newspaper': 28947,\n",
              " 'chevron': 10830,\n",
              " 'phillips': 31348,\n",
              " 'chemical': 10801,\n",
              " 'lp': 26152,\n",
              " 'hplc': 21785,\n",
              " 'sales': 35468,\n",
              " 'lee': 25378,\n",
              " 'julie': 24177,\n",
              " 'read': 33685,\n",
              " 'supply': 38502,\n",
              " 'tuesday': 40490,\n",
              " '13': 471,\n",
              " 'ray': 33625,\n",
              " 'tess': 39312,\n",
              " 'agree': 5054,\n",
              " 'pricing': 32423,\n",
              " 'errors': 17061,\n",
              " 'monday': 28021,\n",
              " '58': 2562,\n",
              " 'meyers': 27463,\n",
              " 'importance': 22455,\n",
              " 'high': 21319,\n",
              " 'darren': 13676,\n",
              " 'advise': 4845,\n",
              " 'price': 32415,\n",
              " 'sa': 35375,\n",
              " '413462': 1995,\n",
              " 'swing': 38693,\n",
              " 'shows': 36624,\n",
              " 'shown': 36623,\n",
              " 'hsc': 21819,\n",
              " 'flw': 18558,\n",
              " 'gdp': 19459,\n",
              " 'da': 13518,\n",
              " 'accountant': 4460,\n",
              " 'pipe': 31558,\n",
              " 'line': 25694,\n",
              " '1201': 397,\n",
              " 'louisiana': 26107,\n",
              " 'la': 24971,\n",
              " '1524': 725,\n",
              " 'tel': 39168,\n",
              " '571': 2543,\n",
              " '3274': 1601,\n",
              " '8875': 3549,\n",
              " 'popularity': 31983,\n",
              " 'pills': 31526,\n",
              " 'viagra': 41696,\n",
              " 'cialis': 11081,\n",
              " 'soft': 37237,\n",
              " 'tabs': 38840,\n",
              " 'med': 27152,\n",
              " 'struggle': 38207,\n",
              " 'mens': 27319,\n",
              " 'erectile': 16994,\n",
              " 'dysfunction': 15866,\n",
              " 'jokes': 24026,\n",
              " 'sais': 35443,\n",
              " 'strong': 38181,\n",
              " 'woman': 42913,\n",
              " 'ordering': 30095,\n",
              " 'convinient': 12522,\n",
              " 'fast': 17861,\n",
              " 'secure': 36009,\n",
              " 'way': 42333,\n",
              " 'millions': 27657,\n",
              " 'people': 31028,\n",
              " 'daily': 13551,\n",
              " 'save': 35644,\n",
              " 'privacy': 32478,\n",
              " 'money': 28034,\n",
              " 'formula': 18756,\n",
              " 'patients': 30796,\n",
              " 'treatment': 40242,\n",
              " 'refund': 34020,\n",
              " 'unopened': 41023,\n",
              " 'pack': 30465,\n",
              " 'immediately': 22371,\n",
              " 'account': 4458,\n",
              " 'order': 30091,\n",
              " 'regular': 34071,\n",
              " 'specially': 37492,\n",
              " 'formulated': 18758,\n",
              " 'dissolvable': 15018,\n",
              " 'tongue': 39906,\n",
              " 'absorbed': 4357,\n",
              " 'mouth': 28232,\n",
              " 'enters': 16785,\n",
              " 'bloodstream': 8454,\n",
              " 'directly': 14829,\n",
              " 'instead': 22992,\n",
              " 'going': 19995,\n",
              " 'stomach': 38043,\n",
              " 'results': 34535,\n",
              " 'faster': 17862,\n",
              " 'powerful': 32145,\n",
              " 'effect': 16150,\n",
              " 'lasts': 25167,\n",
              " '36': 1761,\n",
              " 'hours': 21749,\n",
              " 'sidebacks': 36688,\n",
              " 'drive': 15575,\n",
              " 'mix': 27831,\n",
              " 'alcohol': 5255,\n",
              " 'drinks': 15571,\n",
              " 'super': 38456,\n",
              " 'treat': 40236,\n",
              " 'known': 24730,\n",
              " 'impotence': 22469,\n",
              " 'hard': 20806,\n",
              " 'erect': 16993,\n",
              " 'penis': 31007,\n",
              " 'suitable': 38387,\n",
              " 'sexual': 36295,\n",
              " 'activity': 4609,\n",
              " 'active': 4605,\n",
              " 'ingredient': 22853,\n",
              " 'tablets': 38838,\n",
              " 'tadalafil': 38859,\n",
              " 'belongs': 7793,\n",
              " 'medicines': 27187,\n",
              " 'phosphodiesterase': 31381,\n",
              " 'type': 40641,\n",
              " 'inhibitors': 22869,\n",
              " 'stimulation': 37998,\n",
              " 'helps': 21129,\n",
              " 'blood': 8449,\n",
              " 'vessels': 41641,\n",
              " 'relax': 34141,\n",
              " 'allows': 5433,\n",
              " 'improved': 22487,\n",
              " 'function': 19108,\n",
              " 'does': 15250,\n",
              " 'professional': 32568,\n",
              " 'work': 42971,\n",
              " 'prescription': 32336,\n",
              " 'drug': 15617,\n",
              " 'erection': 16996,\n",
              " 'difficulties': 14725,\n",
              " 'ed': 16051,\n",
              " 'available': 6937,\n",
              " '1998': 985,\n",
              " 'helped': 21125,\n",
              " 'men': 27307,\n",
              " 'world': 43003,\n",
              " 'improve': 22486,\n",
              " 'sex': 36283,\n",
              " 'lives': 25807,\n",
              " 'amazing': 5550,\n",
              " 'dispensed': 14968,\n",
              " 'second': 35985,\n",
              " 'therapy': 39458,\n",
              " 'studied': 38228,\n",
              " 'real': 33700,\n",
              " 'launch': 25205,\n",
              " 'wonder': 42921,\n",
              " '600': 2633,\n",
              " 'doctors': 15223,\n",
              " 'chosen': 10972,\n",
              " 'fact': 17731,\n",
              " 'taken': 38898,\n",
              " 'correctly': 12695,\n",
              " 'works': 42997,\n",
              " 'studies': 38229,\n",
              " 'versus': 41627,\n",
              " 'sugar': 38373,\n",
              " 'improves': 22491,\n",
              " 'erections': 16998,\n",
              " 'matter': 26913,\n",
              " 'long': 26008,\n",
              " 'caused': 10290,\n",
              " 'old': 29803,\n",
              " 'treatmentis': 40243,\n",
              " 'sepo': 36183,\n",
              " '1428': 644,\n",
              " 'stuff': 38235,\n",
              " 'cause': 10289,\n",
              " 'reallocation': 33717,\n",
              " 'previously': 32407,\n",
              " 'beamont': 7595,\n",
              " 'methanol': 27437,\n",
              " 'period': 31084,\n",
              " 'sep': 36173,\n",
              " 've': 41522,\n",
              " 'transactions': 40119,\n",
              " 'brandywine': 8919,\n",
              " '423794': 2052,\n",
              " 'discuss': 14924,\n",
              " 'potential': 32109,\n",
              " 'head': 20970,\n",
              " 'wellhead': 42478,\n",
              " 'aware': 7008,\n",
              " 'included': 22587,\n",
              " 'production': 32553,\n",
              " 'estimate': 17151,\n",
              " 'given': 19801,\n",
              " 'vance': 41434,\n",
              " 'eog': 16861,\n",
              " 'hortense': 21698,\n",
              " 'polk': 31908,\n",
              " 'county': 12828,\n",
              " 'brayton': 8943,\n",
              " 'drushell': 15626,\n",
              " 'jackson': 23589,\n",
              " 'possibly': 32065,\n",
              " '9720': 3869,\n",
              " 'susan': 38580,\n",
              " '33321': 1623,\n",
              " 'sanchez': 35525,\n",
              " '20': 987,\n",
              " 'harris': 20849,\n",
              " 'wells': 42481,\n",
              " 'highlander': 21329,\n",
              " 'connected': 12245,\n",
              " '9760': 3895,\n",
              " 'flowing': 18527,\n",
              " 'approx': 6148,\n",
              " 'bid': 8094,\n",
              " 'beginning': 7698,\n",
              " 'term': 39274,\n",
              " 'point': 31869,\n",
              " 'rate': 33593,\n",
              " 'pretty': 32392,\n",
              " 'reasons': 33736,\n",
              " 'prefer': 32276,\n",
              " 'convenience': 12495,\n",
              " 'rush': 35311,\n",
              " 'buit': 9382,\n",
              " 'looking': 26030,\n",
              " 'month': 28097,\n",
              " 'panenergy': 30574,\n",
              " 'marketing': 26759,\n",
              " 'exchange': 17368,\n",
              " '157288': 768,\n",
              " 'pls': 31778,\n",
              " 'adjusted': 4731,\n",
              " '52': 2400,\n",
              " 'pgev': 31250,\n",
              " 'carthage': 10146,\n",
              " 'unify': 40960,\n",
              " '53': 2425,\n",
              " 'idx': 22187,\n",
              " 'banking': 7303,\n",
              " 'alert': 5279,\n",
              " 'dear': 13850,\n",
              " 'valued': 41423,\n",
              " 'citizensr': 11194,\n",
              " 'bank': 7300,\n",
              " 'member': 27290,\n",
              " 'safety': 35417,\n",
              " 'integrity': 23045,\n",
              " 'community': 11890,\n",
              " 'issued': 23463,\n",
              " 'warning': 42253,\n",
              " 'come': 11780,\n",
              " 'attention': 6742,\n",
              " 'needs': 28796,\n",
              " 'updated': 41113,\n",
              " 'continuing': 12431,\n",
              " 'commitment': 11852,\n",
              " 'protect': 32739,\n",
              " 'reduce': 33935,\n",
              " 'instance': 22987,\n",
              " 'website': 42409,\n",
              " 'minutes': 27736,\n",
              " 'renew': 34266,\n",
              " 'records': 33855,\n",
              " 'run': 35299,\n",
              " 'future': 19167,\n",
              " 'problems': 32511,\n",
              " 'service': 36235,\n",
              " 'failure': 17758,\n",
              " 'suspension': 38597,\n",
              " 'confirmed': 12176,\n",
              " 'accounts': 4465,\n",
              " 'interrupted': 23148,\n",
              " 'normal': 29230,\n",
              " 'financial': 18259,\n",
              " '2005': 1007,\n",
              " 'citizens': 11192,\n",
              " 'rights': 34803,\n",
              " 'reserved': 34430,\n",
              " 'terms': 39287,\n",
              " 'site': 36860,\n",
              " 'map': 26676,\n",
              " 'mexican': 27459,\n",
              " 'perscriptions': 31131,\n",
              " 'jefh': 23762,\n",
              " 'jill': 23879,\n",
              " 'discussions': 14929,\n",
              " 'remaining': 34191,\n",
              " 'ann': 5838,\n",
              " 'mag': 26447,\n",
              " 'plant': 31677,\n",
              " 'indicated': 22682,\n",
              " 'ngpl': 28982,\n",
              " 'trunkline': 40412,\n",
              " 'gloria': 19898,\n",
              " 'agua': 5074,\n",
              " 'dulce': 15711,\n",
              " 'tenn': 39240,\n",
              " 'coral': 12608,\n",
              " 'shannel': 36384,\n",
              " 'gulf': 20499,\n",
              " 'plains': 31661,\n",
              " 'minus': 27732,\n",
              " 'option': 30045,\n",
              " 'tailgait': 38884,\n",
              " 'oakhill': 29498,\n",
              " 'hub': 21857,\n",
              " 'quote': 33386,\n",
              " 'probably': 32502,\n",
              " 'central': 10495,\n",
              " 'tetco': 39333,\n",
              " 'mid': 27542,\n",
              " 'respectively': 34485,\n",
              " 'vaquillas': 41456,\n",
              " 'ranch': 33540,\n",
              " 'km': 24686,\n",
              " 'processes': 32526,\n",
              " 'white': 42597,\n",
              " 'heron': 21206,\n",
              " 'familiar': 17799,\n",
              " 'sheridan': 36465,\n",
              " 'assumed': 6600,\n",
              " 'shell': 36447,\n",
              " 'verify': 41595,\n",
              " 'hungerford': 21921,\n",
              " 'north': 29242,\n",
              " 'bear': 7599,\n",
              " 'den': 14219,\n",
              " 'moore': 28121,\n",
              " 'station': 37878,\n",
              " 'dan': 13596,\n",
              " 'hughes': 21878,\n",
              " 'quoting': 33389,\n",
              " 'quotes': 33388,\n",
              " 'originally': 30142,\n",
              " 'anticipated': 5934,\n",
              " 'friday': 18965,\n",
              " 'good': 20033,\n",
              " '32': 1573,\n",
              " 'nd': 28736,\n",
              " 'floor': 18511,\n",
              " 'voicemail': 41966,\n",
              " 'quoted': 33387,\n",
              " 'tomorrow': 39900,\n",
              " 'morning': 28156,\n",
              " 'eric': 17013,\n",
              " '345': 1678,\n",
              " '7754': 3268,\n",
              " 'cell': 10443,\n",
              " '412': 1989,\n",
              " 'ps': 32823,\n",
              " 'reminder': 34216,\n",
              " 'preferred': 32282,\n",
              " 'liquid': 25737,\n",
              " 'eex': 16143,\n",
              " 'responsibility': 34499,\n",
              " 'burden': 9447,\n",
              " 'mobil': 27925,\n",
              " 'discrepancies': 14909,\n",
              " 'congrats': 12215,\n",
              " 'papayoti': 30594,\n",
              " '56': 2517,\n",
              " 'lisa': 25746,\n",
              " 'csikos': 13212,\n",
              " 'sherlyn': 36467,\n",
              " 'schumack': 35801,\n",
              " 'situations': 36876,\n",
              " 'trying': 40426,\n",
              " 'centana': 10469,\n",
              " '99': 4185,\n",
              " 'hplr': 21794,\n",
              " '155': 738,\n",
              " 'mms': 27905,\n",
              " '60978': 2665,\n",
              " ...}"
            ]
          },
          "metadata": {},
          "execution_count": 37
        }
      ],
      "source": [
        "vector.vocabulary_"
      ]
    },
    {
      "cell_type": "markdown",
      "source": [
        "training the model with the final vector inputs\n",
        "vector.transform is used to transform a given text into a vector on the basis of the frequency (count) of each word that occurs in the entire text."
      ],
      "metadata": {
        "id": "fNwR3wREa880"
      }
    },
    {
      "cell_type": "code",
      "execution_count": null,
      "metadata": {
        "id": "y3Y67-tVLQ5z"
      },
      "outputs": [],
      "source": [
        "X_train_transformed =vector.transform(X_train)\n",
        "X_test_transformed =vector.transform(X_test)"
      ]
    },
    {
      "cell_type": "markdown",
      "source": [
        "importing the multinomial naive Bayes libraries from sklearn and predicting the transformed x_train values"
      ],
      "metadata": {
        "id": "OC-eWPrFbg6J"
      }
    },
    {
      "cell_type": "code",
      "execution_count": null,
      "metadata": {
        "id": "4jcJNPP9LUJ-"
      },
      "outputs": [],
      "source": [
        "from sklearn.naive_bayes import MultinomialNB\n",
        "model = MultinomialNB()\n",
        "model.fit(X_train_transformed,Y_train)\n",
        "y_pred = model.predict(X_test_transformed)\n",
        "y_pred_prob = model.predict_proba(X_test_transformed)"
      ]
    },
    {
      "cell_type": "markdown",
      "source": [
        "importing confusion matrix from sklearn.metrics and the printing the confusion matrix for the model"
      ],
      "metadata": {
        "id": "iA44c6HHb2BM"
      }
    },
    {
      "cell_type": "code",
      "execution_count": null,
      "metadata": {
        "id": "g64VhC3RLXXE",
        "colab": {
          "base_uri": "https://localhost:8080/",
          "height": 279
        },
        "outputId": "527f5923-fcd9-4c56-f51c-8682757f8cda"
      },
      "outputs": [
        {
          "output_type": "display_data",
          "data": {
            "text/plain": [
              "<Figure size 432x288 with 2 Axes>"
            ],
            "image/png": "[encoded data removed]"
          },
          "metadata": {
            "needs_background": "light"
          }
        }
      ],
      "source": [
        "from sklearn import metrics\n",
        "confusion_matrix = metrics.confusion_matrix(Y_test,y_pred)\n",
        "cm_display = metrics.ConfusionMatrixDisplay(confusion_matrix = confusion_matrix)\n",
        "cm_display.plot()\n",
        "plt.show()"
      ]
    },
    {
      "cell_type": "markdown",
      "source": [
        "evaluating the accuracy for the model"
      ],
      "metadata": {
        "id": "BdJLo4H9cEUu"
      }
    },
    {
      "cell_type": "code",
      "execution_count": null,
      "metadata": {
        "colab": {
          "base_uri": "https://localhost:8080/"
        },
        "id": "R9Z63-oLqVPC",
        "outputId": "c5aa5e98-b502-474f-e08e-78f1559267c5"
      },
      "outputs": [
        {
          "output_type": "execute_result",
          "data": {
            "text/plain": [
              "0.9777777777777777"
            ]
          },
          "metadata": {},
          "execution_count": 41
        }
      ],
      "source": [
        "from sklearn.metrics import accuracy_score\n",
        "accuracy_score(Y_test,y_pred)"
      ]
    },
    {
      "cell_type": "markdown",
      "source": [
        "getting tp, fp, fn, tn values from the confusion matrix\n",
        "1.\t714 predicted values match the actual values and the actual value was negative and the model predicted a negative value\n",
        "2.\t11 predicted values was falsely predicted and the actual value was negative but the model predicted a positive value\n",
        "3.\t12 predicted values was falsely predicted and the actual value was positive but the model predicted a negative value\n",
        "4.\t298 predicted values match the actual values and the actual value was positive and the model predicted a positive value\n"
      ],
      "metadata": {
        "id": "Ecd7VvrXcNPZ"
      }
    },
    {
      "cell_type": "code",
      "execution_count": null,
      "metadata": {
        "id": "nrodK0KEkYA9"
      },
      "outputs": [],
      "source": [
        "TN = confusion_matrix[0][0]\n",
        "FP = confusion_matrix[0][1]\n",
        "FN = confusion_matrix[1][0]\n",
        "TP = confusion_matrix[1][1]"
      ]
    },
    {
      "cell_type": "markdown",
      "source": [
        "evaluating the prevalence value"
      ],
      "metadata": {
        "id": "C4mhgDincakm"
      }
    },
    {
      "cell_type": "code",
      "execution_count": null,
      "metadata": {
        "colab": {
          "base_uri": "https://localhost:8080/"
        },
        "id": "OZSeWgY3knY7",
        "outputId": "0365b3c8-17a7-45e1-9627-ab0f709a6910"
      },
      "outputs": [
        {
          "output_type": "execute_result",
          "data": {
            "text/plain": [
              "0.2995169082125604"
            ]
          },
          "metadata": {},
          "execution_count": 43
        }
      ],
      "source": [
        "prevalence = (FN+TP)/(FN+TP+FP+TN)\n",
        "prevalence"
      ]
    },
    {
      "cell_type": "markdown",
      "source": [
        "plotting the ROC curve and determining the accuracy, sensitivity, specificity for y_test and y_pred_prob cases"
      ],
      "metadata": {
        "id": "b2W2hFMycf-O"
      }
    },
    {
      "cell_type": "code",
      "execution_count": null,
      "metadata": {
        "colab": {
          "base_uri": "https://localhost:8080/"
        },
        "id": "JLmTuZ9cMC4d",
        "outputId": "b974d000-33e2-47c9-99c3-9698154290ff"
      },
      "outputs": [
        {
          "output_type": "execute_result",
          "data": {
            "text/plain": [
              "0.9940533926585094"
            ]
          },
          "metadata": {},
          "execution_count": 44
        }
      ],
      "source": [
        "from sklearn.metrics import roc_curve, auc\n",
        "\n",
        "false_positive_rate, true_positive_rate, thresholds = roc_curve(Y_test, y_pred_prob[:,1])\n",
        "specificity = 1-false_positive_rate\n",
        "acc = true_positive_rate*prevalence + specificity*(1-prevalence)\n",
        "roc_auc = auc(false_positive_rate, true_positive_rate)\n",
        "roc_auc"
      ]
    },
    {
      "cell_type": "markdown",
      "source": [
        "Obtained accuracy values"
      ],
      "metadata": {
        "id": "8y5UIVp_c2mV"
      }
    },
    {
      "cell_type": "code",
      "execution_count": null,
      "metadata": {
        "colab": {
          "base_uri": "https://localhost:8080/"
        },
        "id": "OVm_Q4qgmhbq",
        "outputId": "0da2d1d8-a035-466d-acba-f1e0be0fb71a"
      },
      "outputs": [
        {
          "output_type": "execute_result",
          "data": {
            "text/plain": [
              "array([0.70048309, 0.8821256 , 0.88695652, 0.88888889, 0.93333333,\n",
              "       0.93236715, 0.9352657 , 0.93429952, 0.94589372, 0.94492754,\n",
              "       0.96811594, 0.96714976, 0.97777778, 0.97681159, 0.97874396,\n",
              "       0.97777778, 0.97971014, 0.97777778, 0.97874396, 0.98164251,\n",
              "       0.98357488, 0.98454106, 0.98164251, 0.9826087 , 0.97874396,\n",
              "       0.97971014, 0.97294686, 0.97391304, 0.9468599 , 0.94492754,\n",
              "       0.91014493, 0.90821256, 0.88502415, 0.88309179, 0.83478261,\n",
              "       0.83285024, 0.74782609, 0.74589372, 0.66183575, 0.6589372 ,\n",
              "       0.63864734, 0.63671498, 0.62898551, 0.62705314, 0.57294686,\n",
              "       0.57101449, 0.49178744, 0.48985507, 0.46183575, 0.45990338,\n",
              "       0.42608696, 0.42415459, 0.42222222, 0.42028986, 0.33140097,\n",
              "       0.29951691])"
            ]
          },
          "metadata": {},
          "execution_count": 45
        }
      ],
      "source": [
        "acc         #for accuracy"
      ]
    },
    {
      "cell_type": "markdown",
      "source": [
        "Obtained specificity values"
      ],
      "metadata": {
        "id": "P6lmTqSKc73g"
      }
    },
    {
      "cell_type": "code",
      "execution_count": null,
      "metadata": {
        "colab": {
          "base_uri": "https://localhost:8080/"
        },
        "id": "hu52u68Hnc0N",
        "outputId": "26cfc778-4858-4909-f2fa-2e8cb3d7f6c4"
      },
      "outputs": [
        {
          "output_type": "execute_result",
          "data": {
            "text/plain": [
              "array([1.        , 0.99310345, 0.99310345, 0.99310345, 0.99310345,\n",
              "       0.99172414, 0.99172414, 0.99034483, 0.99034483, 0.98896552,\n",
              "       0.98896552, 0.98758621, 0.98758621, 0.9862069 , 0.9862069 ,\n",
              "       0.98482759, 0.98482759, 0.98206897, 0.98206897, 0.98206897,\n",
              "       0.98206897, 0.98206897, 0.97793103, 0.97793103, 0.97241379,\n",
              "       0.97241379, 0.96275862, 0.96275862, 0.92413793, 0.92137931,\n",
              "       0.87172414, 0.86896552, 0.83586207, 0.83310345, 0.76413793,\n",
              "       0.76137931, 0.64      , 0.63724138, 0.51724138, 0.51310345,\n",
              "       0.48413793, 0.48137931, 0.47034483, 0.46758621, 0.39034483,\n",
              "       0.38758621, 0.27448276, 0.27172414, 0.23172414, 0.22896552,\n",
              "       0.18068966, 0.17793103, 0.17517241, 0.17241379, 0.04551724,\n",
              "       0.        ])"
            ]
          },
          "metadata": {},
          "execution_count": 46
        }
      ],
      "source": [
        "specificity"
      ]
    },
    {
      "cell_type": "markdown",
      "source": [
        "Obtained sensitivity values"
      ],
      "metadata": {
        "id": "iFea8aZIdARR"
      }
    },
    {
      "cell_type": "code",
      "execution_count": null,
      "metadata": {
        "colab": {
          "base_uri": "https://localhost:8080/"
        },
        "id": "w4nKS9oAnh2-",
        "outputId": "6e7385c9-454e-4164-9c89-77ab8f7b275e"
      },
      "outputs": [
        {
          "output_type": "execute_result",
          "data": {
            "text/plain": [
              "array([0.        , 0.62258065, 0.63870968, 0.64516129, 0.79354839,\n",
              "       0.79354839, 0.80322581, 0.80322581, 0.84193548, 0.84193548,\n",
              "       0.91935484, 0.91935484, 0.95483871, 0.95483871, 0.96129032,\n",
              "       0.96129032, 0.96774194, 0.96774194, 0.97096774, 0.98064516,\n",
              "       0.98709677, 0.99032258, 0.99032258, 0.99354839, 0.99354839,\n",
              "       0.99677419, 0.99677419, 1.        , 1.        , 1.        ,\n",
              "       1.        , 1.        , 1.        , 1.        , 1.        ,\n",
              "       1.        , 1.        , 1.        , 1.        , 1.        ,\n",
              "       1.        , 1.        , 1.        , 1.        , 1.        ,\n",
              "       1.        , 1.        , 1.        , 1.        , 1.        ,\n",
              "       1.        , 1.        , 1.        , 1.        , 1.        ,\n",
              "       1.        ])"
            ]
          },
          "metadata": {},
          "execution_count": 47
        }
      ],
      "source": [
        "true_positive_rate    #for sensitivity"
      ]
    },
    {
      "cell_type": "markdown",
      "source": [
        "Threshold values"
      ],
      "metadata": {
        "id": "_hBjIB4HdJ1P"
      }
    },
    {
      "cell_type": "code",
      "execution_count": null,
      "metadata": {
        "colab": {
          "base_uri": "https://localhost:8080/"
        },
        "id": "3eQ1EBxwoJWa",
        "outputId": "9c0327a5-f61a-49a2-c43b-9de9477794c1"
      },
      "outputs": [
        {
          "output_type": "execute_result",
          "data": {
            "text/plain": [
              "array([2.00000000e+000, 1.00000000e+000, 1.00000000e+000, 1.00000000e+000,\n",
              "       9.99999698e-001, 9.99999662e-001, 9.99997646e-001, 9.99995971e-001,\n",
              "       9.99887732e-001, 9.99854129e-001, 9.64318561e-001, 9.63640697e-001,\n",
              "       7.60878788e-001, 6.91198611e-001, 5.87832027e-001, 5.73800610e-001,\n",
              "       3.57732746e-001, 2.89721818e-001, 2.61934555e-001, 1.54750218e-001,\n",
              "       1.48746711e-001, 1.43717043e-001, 1.77128223e-002, 1.00502862e-002,\n",
              "       1.68842677e-003, 1.58248547e-003, 5.02538042e-004, 3.73038719e-004,\n",
              "       1.37764650e-007, 7.70930334e-008, 2.35832810e-013, 1.68277775e-013,\n",
              "       3.25526402e-016, 3.05224389e-016, 6.82301599e-021, 6.72551531e-021,\n",
              "       1.08953328e-024, 1.04654451e-024, 7.38499708e-036, 6.80262408e-036,\n",
              "       7.40489379e-039, 3.79009474e-039, 9.88879350e-041, 2.36029378e-041,\n",
              "       1.17052264e-053, 1.16811453e-053, 1.51585408e-078, 5.05772453e-079,\n",
              "       3.55993852e-098, 1.78633105e-098, 6.11668837e-125, 1.03861836e-125,\n",
              "       3.76416419e-126, 1.93884373e-127, 9.88131292e-324, 0.00000000e+000])"
            ]
          },
          "metadata": {},
          "execution_count": 48
        }
      ],
      "source": [
        "thresholds"
      ]
    },
    {
      "cell_type": "markdown",
      "source": [
        "plotting graphs for threshold v/s accuracy, specificity, sensitivity using matplotlib"
      ],
      "metadata": {
        "id": "Dcqw2Xd8dMHl"
      }
    },
    {
      "cell_type": "code",
      "execution_count": null,
      "metadata": {
        "colab": {
          "base_uri": "https://localhost:8080/",
          "height": 497
        },
        "id": "2qkTzWSg7bDv",
        "outputId": "091d4bd1-d582-488d-f3b6-57337e09181a"
      },
      "outputs": [
        {
          "output_type": "execute_result",
          "data": {
            "text/plain": [
              "[<matplotlib.lines.Line2D at 0x7f4b9b88ddd0>]"
            ]
          },
          "metadata": {},
          "execution_count": 49
        },
        {
          "output_type": "display_data",
          "data": {
            "text/plain": [
              "<Figure size 500x500 with 1 Axes>"
            ],
            "image/png": "[encoded data removed]"
          },
          "metadata": {
            "needs_background": "light"
          }
        }
      ],
      "source": [
        "%matplotlib inline  \n",
        "plt.figure(figsize=(5,5), dpi=100) \n",
        "plt.xlabel('threshold')\n",
        "plt.title('ROC')\n",
        "plt.ylabel('accuracy / specificity / sensitivity') \n",
        "plt.plot(thresholds, acc, color='r', linestyle='-', label='accuracy')  \n",
        "plt.plot(thresholds,specificity, color='b', linestyle='-', label='specificity')\n",
        "plt.plot(thresholds,true_positive_rate, color='g', linestyle='-', label='sensitivity')\n",
        "\n",
        "# red - accuracy\n",
        "# blue - specificity\n",
        "# green - sensitivity"
      ]
    },
    {
      "cell_type": "markdown",
      "source": [
        "calculating mean for y_test dataset"
      ],
      "metadata": {
        "id": "95pIPhQ6fgPt"
      }
    },
    {
      "cell_type": "code",
      "execution_count": null,
      "metadata": {
        "colab": {
          "base_uri": "https://localhost:8080/"
        },
        "id": "pSnIqOKk2aJo",
        "outputId": "da84c2b3-4ead-4196-8fb1-d1f731bbb30f"
      },
      "outputs": [
        {
          "output_type": "execute_result",
          "data": {
            "text/plain": [
              "0.2995169082125604"
            ]
          },
          "metadata": {},
          "execution_count": 50
        }
      ],
      "source": [
        "y_test_mean = Y_test.mean()\n",
        "y_test_mean"
      ]
    },
    {
      "cell_type": "markdown",
      "source": [
        "calculating mean for y_pred_prob dataset"
      ],
      "metadata": {
        "id": "gp1U0oeffkFQ"
      }
    },
    {
      "cell_type": "code",
      "execution_count": null,
      "metadata": {
        "colab": {
          "base_uri": "https://localhost:8080/"
        },
        "id": "rrk-1L7TAVSN",
        "outputId": "5f2edfb7-232f-452e-faf2-863f2ffabf8b"
      },
      "outputs": [
        {
          "output_type": "execute_result",
          "data": {
            "text/plain": [
              "0.5"
            ]
          },
          "metadata": {},
          "execution_count": 51
        }
      ],
      "source": [
        "y_pred_mean = y_pred_prob.mean()\n",
        "y_pred_mean"
      ]
    },
    {
      "cell_type": "markdown",
      "source": [
        "plotting bar graph for means (obtained from y_test and y_pred_prob) and for classified andd unclassified dataset"
      ],
      "metadata": {
        "id": "YDpDWqzCfrGV"
      }
    },
    {
      "cell_type": "code",
      "execution_count": null,
      "metadata": {
        "colab": {
          "base_uri": "https://localhost:8080/",
          "height": 320
        },
        "id": "VoofyhsaByat",
        "outputId": "75b716f3-ffc6-4151-c494-e336e34f813b"
      },
      "outputs": [
        {
          "output_type": "display_data",
          "data": {
            "text/plain": [
              "<Figure size 720x360 with 1 Axes>"
            ],
            "image/png": "[encoded data removed]"
          },
          "metadata": {
            "needs_background": "light"
          }
        }
      ],
      "source": [
        "y_mean = [y_test_mean, y_pred_mean]\n",
        "x_mean = ['Unclassified', 'classified']\n",
        "fig = plt.figure(figsize = (10, 5))\n",
        "plt.bar(x_mean, y_mean, color ='maroon', width = 0.4)\n",
        "plt.show()"
      ]
    }
  ],
  "metadata": {
    "colab": {
      "provenance": []
    },
    "kernelspec": {
      "display_name": "Python 3",
      "name": "python3"
    },
    "language_info": {
      "name": "python"
    }
  },
  "nbformat": 4,
  "nbformat_minor": 0
}